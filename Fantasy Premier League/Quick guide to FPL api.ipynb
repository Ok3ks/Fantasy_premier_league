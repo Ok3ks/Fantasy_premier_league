{
    "cells": [
        {
            "cell_type": "code",
            "execution_count": 2,
            "source": [
                "import requests"
            ],
            "outputs": [],
            "metadata": {}
        },
        {
            "cell_type": "code",
            "execution_count": 5,
            "source": [
                "league_id = 280620\r\n",
                "#You can access members of your leagues with this code\r\n",
                "league_url = f\"https://fantasy.premierleague.com/api/leagues-classic/{league_id}/standings/?page_new_entries=1&page_standings=1&phase=1\"\r\n",
                "#with the main api, You can access players, teams, fixtures, phases of the game. Use json.keys() to Dictionary of elements\r\n",
                "Main_api \r\n",
                "FPL_url = \"https://fantasy.premierleague.com/api/bootstrap-static/\"\r\n",
                "#Access Entry picks with the team_id\r\n",
                "player_id = 775393\r\n",
                "url_2 = f\"https://fantasy.premierleague.com/api/entry/{player_id}/event/3/picks/\"\r\n",
                "\r\n",
                "\r\n",
                "r = requests.get(url)\r\n",
                "json = r.json()\r\n",
                "json.keys()"
            ],
            "outputs": [
                {
                    "output_type": "execute_result",
                    "data": {
                        "text/plain": [
                            "dict_keys(['new_entries', 'last_updated_data', 'league', 'standings'])"
                        ]
                    },
                    "metadata": {},
                    "execution_count": 5
                }
            ],
            "metadata": {}
        }
    ],
    "metadata": {
        "orig_nbformat": 4,
        "language_info": {
            "name": "python",
            "version": "3.9.4",
            "mimetype": "text/x-python",
            "codemirror_mode": {
                "name": "ipython",
                "version": 3
            },
            "pygments_lexer": "ipython3",
            "nbconvert_exporter": "python",
            "file_extension": ".py"
        },
        "kernelspec": {
            "name": "python3",
            "display_name": "Python 3.9.4 64-bit"
        },
        "interpreter": {
            "hash": "8f0b0387341158368e76e37e041ace2634b8300c178d0bf8661e3da462a1a4ca"
        }
    },
    "nbformat": 4,
    "nbformat_minor": 2
}