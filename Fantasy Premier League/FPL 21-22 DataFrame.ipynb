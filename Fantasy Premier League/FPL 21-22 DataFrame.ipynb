{
    "cells": [
        {
            "cell_type": "code",
            "execution_count": 3,
            "source": [
                "import pandas as pd\r\n",
                "import numpy as np\r\n",
                "import matplotlib.pyplot as pyplot\r\n",
                "import requests\r\n"
            ],
            "outputs": [],
            "metadata": {}
        },
        {
            "cell_type": "markdown",
            "source": [
                "ACCESS API"
            ],
            "metadata": {}
        },
        {
            "cell_type": "code",
            "execution_count": 46,
            "source": [
                "url = 'https://fantasy.premierleague.com/api/bootstrap-static/'\r\n",
                "\r\n",
                "r = requests.get(url)\r\n",
                "json = r.json()\r\n"
            ],
            "outputs": [],
            "metadata": {}
        },
        {
            "cell_type": "code",
            "execution_count": 9,
            "source": [
                "json.keys()\r\n"
            ],
            "outputs": [
                {
                    "output_type": "execute_result",
                    "data": {
                        "text/plain": [
                            "dict_keys(['events', 'game_settings', 'phases', 'teams', 'total_players', 'elements', 'element_stats', 'element_types'])"
                        ]
                    },
                    "metadata": {},
                    "execution_count": 9
                }
            ],
            "metadata": {}
        },
        {
            "cell_type": "code",
            "execution_count": 14,
            "source": [
                "pd.options.display.max_columns = None"
            ],
            "outputs": [],
            "metadata": {}
        },
        {
            "cell_type": "code",
            "execution_count": 48,
            "source": [
                "elements_df = pd.DataFrame(json['elements']).head()\r\n",
                "\r\n",
                "elements_df.columns.sort_values()\r\n"
            ],
            "outputs": [
                {
                    "output_type": "execute_result",
                    "data": {
                        "text/plain": [
                            "Index(['assists', 'bonus', 'bps', 'chance_of_playing_next_round',\n",
                            "       'chance_of_playing_this_round', 'clean_sheets', 'code',\n",
                            "       'corners_and_indirect_freekicks_order',\n",
                            "       'corners_and_indirect_freekicks_text', 'cost_change_event',\n",
                            "       'cost_change_event_fall', 'cost_change_start', 'cost_change_start_fall',\n",
                            "       'creativity', 'creativity_rank', 'creativity_rank_type',\n",
                            "       'direct_freekicks_order', 'direct_freekicks_text', 'dreamteam_count',\n",
                            "       'element_type', 'ep_next', 'ep_this', 'event_points', 'first_name',\n",
                            "       'form', 'goals_conceded', 'goals_scored', 'ict_index', 'ict_index_rank',\n",
                            "       'ict_index_rank_type', 'id', 'in_dreamteam', 'influence',\n",
                            "       'influence_rank', 'influence_rank_type', 'minutes', 'news',\n",
                            "       'news_added', 'now_cost', 'own_goals', 'penalties_missed',\n",
                            "       'penalties_order', 'penalties_saved', 'penalties_text', 'photo',\n",
                            "       'points_per_game', 'red_cards', 'saves', 'second_name',\n",
                            "       'selected_by_percent', 'special', 'squad_number', 'status', 'team',\n",
                            "       'team_code', 'threat', 'threat_rank', 'threat_rank_type',\n",
                            "       'total_points', 'transfers_in', 'transfers_in_event', 'transfers_out',\n",
                            "       'transfers_out_event', 'value_form', 'value_season', 'web_name',\n",
                            "       'yellow_cards'],\n",
                            "      dtype='object')"
                        ]
                    },
                    "metadata": {},
                    "execution_count": 48
                }
            ],
            "metadata": {}
        },
        {
            "cell_type": "code",
            "execution_count": 53,
            "source": [
                "for x  in elements_df.index :\r\n",
                "    element_id = elements_df.id[x]\r\n",
                "    element_first_name = elements_df.first_name[x]\r\n",
                "    element_second_name = elements_df.second_name[x]\r\n",
                "\r\n",
                "    url = f'https://fantasy.premierleague.com/api/element-summary/{element_id}/'\r\n",
                "    r = requests.get(url)\r\n",
                "    json = r.json()\r\n",
                "\r\n",
                "    player_fixtures_df = pd.DataFrame(json['fixtures'])\r\n",
                "    \r\n",
                "    history_df = pd.DataFrame(json['history'])\r\n",
                "    history_past_df = pd.DataFrame(json['history_past'])      \r\n",
                "\r\n",
                "    #if x == 0:\r\n",
                "        all_history_df = history_df\r\n",
                "        all_history_past_df = history_past_df\r\n",
                "        all_players_fixtures = player_fixtures_df\r\n",
                "\r\n",
                "    #else :\r\n",
                "        all_history_df = all_history_df.append(history_df)\r\n",
                "        all_history_past_df = all_history_past_df.append(history_past_df)\r\n",
                "        all_players_fixtures = all_players_fixtures.append(player_fixtures_df)\r\n",
                "\r\n"
            ],
            "outputs": [
                {
                    "output_type": "stream",
                    "name": "stdout",
                    "text": [
                        "1 Bernd Leno\n",
                        "2 Rúnar Alex Rúnarsson\n",
                        "3 Willian Borges Da Silva\n",
                        "4 Pierre-Emerick Aubameyang\n",
                        "5 Cédric Soares\n"
                    ]
                }
            ],
            "metadata": {}
        },
        {
            "cell_type": "code",
            "execution_count": null,
            "source": [],
            "outputs": [],
            "metadata": {}
        }
    ],
    "metadata": {
        "orig_nbformat": 4,
        "language_info": {
            "name": "python",
            "version": "3.9.4",
            "mimetype": "text/x-python",
            "codemirror_mode": {
                "name": "ipython",
                "version": 3
            },
            "pygments_lexer": "ipython3",
            "nbconvert_exporter": "python",
            "file_extension": ".py"
        },
        "kernelspec": {
            "name": "python3",
            "display_name": "Python 3.9.4 64-bit"
        },
        "interpreter": {
            "hash": "8f0b0387341158368e76e37e041ace2634b8300c178d0bf8661e3da462a1a4ca"
        }
    },
    "nbformat": 4,
    "nbformat_minor": 2
}