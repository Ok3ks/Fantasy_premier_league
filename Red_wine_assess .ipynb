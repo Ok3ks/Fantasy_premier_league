{
  "nbformat": 4,
  "nbformat_minor": 0,
  "metadata": {
    "colab": {
      "name": "Red_wine assess.ipynb",
      "provenance": [],
      "collapsed_sections": []
    },
    "kernelspec": {
      "name": "python3",
      "display_name": "Python 3"
    },
    "language_info": {
      "name": "python"
    }
  },
  "cells": [
    {
      "cell_type": "code",
      "execution_count": 1,
      "metadata": {
        "id": "oY7e8kEHoseb",
        "colab": {
          "base_uri": "https://localhost:8080/"
        },
        "outputId": "ef49e03c-705c-4ab1-d425-9239d5649c32"
      },
      "outputs": [
        {
          "output_type": "stream",
          "name": "stdout",
          "text": [
            "Mounted at /content/drive\n"
          ]
        }
      ],
      "source": [
        "from google.colab import drive\n",
        "import pandas as pd\n",
        "import matplotlib.pyplot as plt\n",
        "import os\n",
        "import re\n",
        "import numpy as np\n",
        "\n",
        "drive.mount('/content/drive')\n",
        "os.chdir(\"drive/My Drive/winequality\")\n",
        "files = \"winequality-red.csv\" \n"
      ]
    },
    {
      "cell_type": "code",
      "source": [
        "content = []\n",
        "with open(files) as f: \n",
        "  for line in f:\n",
        "    line = re.sub(\"(\\n)\",\"\",line)\n",
        "    content.append(line.split(';'))"
      ],
      "metadata": {
        "id": "R3Hyf9bio4gE"
      },
      "execution_count": 2,
      "outputs": []
    },
    {
      "cell_type": "code",
      "source": [
        "red_wine_df = pd.DataFrame(content, columns = [\"fixed acidity\",\"volatile acidity\", \"citric acid\", \"residual sugar\", \"chlorides\", \"free sulfur dioxide\", \"total sulfur dioxide\",\"density\",\"pH\",\"sulphates\",\"alcohol\",\"quality\"])\n",
        "red_wine_df.drop([0], inplace = True)\n",
        "\n",
        "y = red_wine_df['quality']\n",
        "x = red_wine_df[[\"fixed acidity\",\"volatile acidity\", \"citric acid\", \"residual sugar\", \"chlorides\", \"free sulfur dioxide\", \"total sulfur dioxide\",\"density\",\"pH\",\"sulphates\",\"alcohol\"]]"
      ],
      "metadata": {
        "id": "iOy2qFJoo8ip"
      },
      "execution_count": 3,
      "outputs": []
    },
    {
      "cell_type": "code",
      "source": [
        "red_wine_df.info()"
      ],
      "metadata": {
        "colab": {
          "base_uri": "https://localhost:8080/"
        },
        "id": "69i3IvnDF2Y4",
        "outputId": "fb813b79-f4d3-4185-81bf-89c30e4d2c14"
      },
      "execution_count": 4,
      "outputs": [
        {
          "output_type": "stream",
          "name": "stdout",
          "text": [
            "<class 'pandas.core.frame.DataFrame'>\n",
            "Int64Index: 1599 entries, 1 to 1599\n",
            "Data columns (total 12 columns):\n",
            " #   Column                Non-Null Count  Dtype \n",
            "---  ------                --------------  ----- \n",
            " 0   fixed acidity         1599 non-null   object\n",
            " 1   volatile acidity      1599 non-null   object\n",
            " 2   citric acid           1599 non-null   object\n",
            " 3   residual sugar        1599 non-null   object\n",
            " 4   chlorides             1599 non-null   object\n",
            " 5   free sulfur dioxide   1599 non-null   object\n",
            " 6   total sulfur dioxide  1599 non-null   object\n",
            " 7   density               1599 non-null   object\n",
            " 8   pH                    1599 non-null   object\n",
            " 9   sulphates             1599 non-null   object\n",
            " 10  alcohol               1599 non-null   object\n",
            " 11  quality               1599 non-null   object\n",
            "dtypes: object(12)\n",
            "memory usage: 162.4+ KB\n"
          ]
        }
      ]
    },
    {
      "cell_type": "markdown",
      "source": [
        "**Linear Model**"
      ],
      "metadata": {
        "id": "msKWTh3KVtCp"
      }
    },
    {
      "cell_type": "code",
      "source": [
        "from sklearn.model_selection import train_test_split\n",
        "from sklearn.linear_model import LinearRegression\n",
        "from sklearn import metrics\n",
        "import seaborn as sns\n",
        "import numpy as np"
      ],
      "metadata": {
        "id": "g0v1p0snpq5e"
      },
      "execution_count": 5,
      "outputs": []
    },
    {
      "cell_type": "code",
      "source": [
        "size = [0.5,0.4,0.3,0.2,0.1]\n",
        "yvalues_test = {}; intercept = {}; predictions = {}; coeff = {}; xvalues_test = {}; rmse = {}\n",
        "lr_model = LinearRegression()\n",
        "\n",
        "for i in range(len(size)):\n",
        "  current = size[i]\n",
        "  x_train,x_test,y_train,y_test = train_test_split(x,y, test_size = current)\n",
        "  lr_model.fit(x_train,y_train)\n",
        "\n",
        "  w = lr_model.coef_; b = lr_model.intercept_; coeff[current] = w; intercept[current] = b\n",
        "  #predict output based on this model\n",
        "  predictions[current] = lr_model.predict(x_test)\n",
        "  xvalues_test[current] = x_test\n",
        "  yvalues_test[current] = y_test\n"
      ],
      "metadata": {
        "id": "v5iQYZ0pD63y"
      },
      "execution_count": 6,
      "outputs": []
    },
    {
      "cell_type": "code",
      "source": [
        "predictions[0.2]"
      ],
      "metadata": {
        "colab": {
          "base_uri": "https://localhost:8080/"
        },
        "id": "Ne4WIksUUs8U",
        "outputId": "fda6b638-12ae-45c6-cb5d-433ae73965f5"
      },
      "execution_count": 7,
      "outputs": [
        {
          "output_type": "execute_result",
          "data": {
            "text/plain": [
              "array([6.49549652, 6.7086593 , 5.76759541, 6.73623844, 5.41962669,\n",
              "       5.28617094, 5.52483374, 5.5980086 , 5.38524366, 5.67691169,\n",
              "       5.7650347 , 5.73043625, 5.66463843, 5.60872329, 5.99335154,\n",
              "       5.33611533, 4.93678053, 5.06555409, 5.81597508, 6.59808545,\n",
              "       5.60883253, 6.45775634, 6.19290024, 6.58974464, 5.27940696,\n",
              "       6.71427282, 4.92875513, 6.03593165, 4.94588071, 6.00986416,\n",
              "       5.78036902, 4.7989039 , 5.51903913, 6.33876684, 5.94560976,\n",
              "       4.81597748, 6.51697167, 5.19449171, 6.37204988, 5.30458219,\n",
              "       5.30515299, 5.67523016, 5.91964749, 5.01389374, 5.55126588,\n",
              "       5.46128931, 5.30328128, 4.77796332, 5.00643804, 5.14744973,\n",
              "       4.97463504, 5.4950659 , 5.7944706 , 5.2858009 , 5.34150931,\n",
              "       6.1252731 , 5.09891623, 6.58594934, 5.41119611, 5.49052868,\n",
              "       5.46984596, 5.88727175, 5.87341992, 6.35513002, 4.871396  ,\n",
              "       5.26725015, 5.28984342, 6.87838255, 6.39734321, 5.57120453,\n",
              "       5.93133721, 5.17781032, 6.54051248, 5.43981471, 5.22264053,\n",
              "       5.35694409, 5.70073449, 5.4979005 , 6.15922816, 4.65552833,\n",
              "       5.28718396, 5.51507986, 5.39308908, 4.84978569, 5.44519286,\n",
              "       5.57550852, 5.7650813 , 6.02544935, 6.29292225, 5.41615672,\n",
              "       4.93535172, 5.14736791, 6.36866217, 5.30194248, 5.82399292,\n",
              "       6.13361779, 5.59255624, 4.90229392, 5.44055503, 5.70823612,\n",
              "       6.20412894, 4.9710788 , 5.88824264, 5.71903357, 6.0071502 ,\n",
              "       5.61407536, 6.00755896, 5.00886098, 5.22736721, 6.25550298,\n",
              "       5.45320482, 6.41805961, 6.73623844, 5.81064033, 6.21528633,\n",
              "       5.00965497, 5.68109612, 4.97463504, 6.26917388, 5.51319149,\n",
              "       5.07472645, 6.2444688 , 5.24394386, 4.8784357 , 5.76164813,\n",
              "       5.59993   , 6.23125541, 6.08095052, 5.70785111, 5.15133826,\n",
              "       6.16988427, 6.10609731, 5.2773694 , 4.98906174, 6.37319452,\n",
              "       6.12234168, 4.95525109, 6.53080718, 5.72452374, 6.51186716,\n",
              "       5.59339883, 5.7082591 , 5.40954691, 4.87634924, 5.23097212,\n",
              "       5.81776319, 5.07530243, 5.37252435, 4.65351335, 5.06855888,\n",
              "       5.4537417 , 5.31602591, 5.13855735, 5.13811672, 6.15906349,\n",
              "       5.22004888, 6.78233424, 5.13811672, 4.81383388, 5.09421147,\n",
              "       5.65582938, 5.74014684, 5.11967471, 5.16638155, 4.60535868,\n",
              "       5.31413758, 6.00948989, 6.45435439, 5.11541622, 5.44575747,\n",
              "       5.62631802, 6.00426775, 6.06063818, 5.74297148, 5.62508069,\n",
              "       5.72460735, 6.38445317, 5.86373614, 6.07482749, 5.6264696 ,\n",
              "       5.6439087 , 4.96828656, 5.6982515 , 5.25661786, 5.87381865,\n",
              "       6.01081146, 5.25530129, 4.96639596, 4.73426394, 5.56152819,\n",
              "       5.67719754, 5.89287051, 5.11830704, 5.54555041, 6.41864245,\n",
              "       5.07584252, 5.03233633, 5.33611533, 5.02027731, 5.78776171,\n",
              "       4.82819075, 5.21199559, 5.68603303, 6.66743318, 5.69715633,\n",
              "       5.9704868 , 6.10712897, 5.676648  , 5.14076203, 5.31659254,\n",
              "       5.05827855, 4.91667534, 4.93429433, 5.08622191, 5.21545772,\n",
              "       5.16309291, 5.53478664, 5.28718396, 5.1403923 , 4.95301617,\n",
              "       4.89696138, 5.49896539, 5.1003696 , 5.02810966, 5.35959755,\n",
              "       5.22736721, 5.04792892, 5.75180241, 5.00357769, 6.55347276,\n",
              "       5.32889333, 5.19003379, 5.92823012, 6.13349649, 6.26648107,\n",
              "       4.97840636, 4.73074306, 5.20819721, 6.1116742 , 5.58317272,\n",
              "       5.51319149, 4.8959296 , 5.38457489, 5.40472929, 5.96159009,\n",
              "       6.02544935, 6.58759693, 5.7408058 , 4.83418338, 5.97013147,\n",
              "       5.76910296, 5.14108023, 6.23831301, 5.26235373, 6.37817348,\n",
              "       6.10826558, 5.21828903, 5.03720268, 5.21269449, 5.30515966,\n",
              "       4.96501215, 5.8370067 , 5.30103566, 5.11252675, 6.01017247,\n",
              "       6.5257839 , 6.37374777, 5.47842079, 5.298097  , 5.70609495,\n",
              "       6.49134395, 6.23956558, 5.40588874, 5.05008297, 5.65889844,\n",
              "       5.24175058, 5.12022989, 5.07102387, 5.03337123, 5.02620181,\n",
              "       6.5199956 , 5.51851408, 5.05910546, 5.27672489, 5.19625639,\n",
              "       5.27587538, 5.6466563 , 5.48795896, 5.06830827, 5.93710143,\n",
              "       5.34722933, 5.86556768, 5.14232288, 6.01659373, 6.0601598 ,\n",
              "       4.89494624, 5.85943649, 4.83373127, 5.72238942, 5.2858009 ,\n",
              "       5.07399606, 6.05405536, 5.65297609, 5.16003575, 5.21942211,\n",
              "       6.63248927, 5.43512874, 5.37104276, 5.0467629 , 4.98618898,\n",
              "       5.80817601, 4.74927392, 5.29852794, 5.49022494, 6.94092477,\n",
              "       6.83082129, 5.09419902, 6.03121956, 5.21721069, 5.77425846])"
            ]
          },
          "metadata": {},
          "execution_count": 7
        }
      ]
    },
    {
      "cell_type": "code",
      "source": [
        "plt.scatter(lr_model.predict(xvalues_test[0.2]), yvalues_test[0.2])"
      ],
      "metadata": {
        "colab": {
          "base_uri": "https://localhost:8080/",
          "height": 282
        },
        "id": "xE0rhlrDKer6",
        "outputId": "66ed6c52-38c5-40b3-af9d-3df31f3e338c"
      },
      "execution_count": 8,
      "outputs": [
        {
          "output_type": "execute_result",
          "data": {
            "text/plain": [
              "<matplotlib.collections.PathCollection at 0x7fed948cc290>"
            ]
          },
          "metadata": {},
          "execution_count": 8
        },
        {
          "output_type": "display_data",
          "data": {
            "image/png": "[encoded data removed]",
            "text/plain": [
              "<Figure size 432x288 with 1 Axes>"
            ]
          },
          "metadata": {
            "needs_background": "light"
          }
        }
      ]
    },
    {
      "cell_type": "code",
      "source": [
        "#Testing the performance of a model can be done with Mean absolute error, Mean squared error, Root mean squared error. Can also use accuracy"
      ],
      "metadata": {
        "id": "JM-lve3sM67D"
      },
      "execution_count": 9,
      "outputs": []
    },
    {
      "cell_type": "code",
      "source": [
        "mse_lr = {}; mae_lr = {}; rmse_lr = {}\n",
        "\n",
        "for i in range(len(size)):\n",
        "  current = size[i]\n",
        "  mse_lr[current] = metrics.mean_squared_error(lr_model.predict(xvalues_test[current]), yvalues_test[current])\n",
        "  mae_lr[current] = metrics.mean_absolute_error(lr_model.predict(xvalues_test[current]), yvalues_test[current])\n",
        "  rmse_lr[current] = np.sqrt(metrics.mean_absolute_error(lr_model.predict(xvalues_test[current]), yvalues_test[current]))"
      ],
      "metadata": {
        "id": "7KAowuxZYUx4"
      },
      "execution_count": 10,
      "outputs": []
    },
    {
      "cell_type": "code",
      "source": [
        "mse_lr"
      ],
      "metadata": {
        "colab": {
          "base_uri": "https://localhost:8080/"
        },
        "id": "seCxGxteat4z",
        "outputId": "6bd24881-91ad-4156-9d6e-ff97c551593f"
      },
      "execution_count": 11,
      "outputs": [
        {
          "output_type": "execute_result",
          "data": {
            "text/plain": [
              "{0.1: 0.4876419654428526,\n",
              " 0.2: 0.48631659034810626,\n",
              " 0.3: 0.3982143560754511,\n",
              " 0.4: 0.41949964103327153,\n",
              " 0.5: 0.45790839135719225}"
            ]
          },
          "metadata": {},
          "execution_count": 11
        }
      ]
    },
    {
      "cell_type": "code",
      "source": [
        "mae_lr"
      ],
      "metadata": {
        "colab": {
          "base_uri": "https://localhost:8080/"
        },
        "id": "DTcQfduya8kq",
        "outputId": "6bec466b-0a99-4630-eb36-7c5600c194f5"
      },
      "execution_count": 12,
      "outputs": [
        {
          "output_type": "execute_result",
          "data": {
            "text/plain": [
              "{0.1: 0.5427935349181396,\n",
              " 0.2: 0.5256705590308048,\n",
              " 0.3: 0.49967768640732874,\n",
              " 0.4: 0.5015779192278146,\n",
              " 0.5: 0.5179590148221981}"
            ]
          },
          "metadata": {},
          "execution_count": 12
        }
      ]
    },
    {
      "cell_type": "markdown",
      "source": [
        "**Two layer Neural Networks**"
      ],
      "metadata": {
        "id": "xMOZtD6zbszf"
      }
    },
    {
      "cell_type": "code",
      "source": [
        "#Convert data from csvs into arrays\n",
        "red_wine_data = np.genfromtxt(files, delimiter = ';')\n",
        "\n",
        "#Removes headers as nan values\n",
        "red_wine_data = red_wine_data[1:,:] #Numpy arrays are immutable thus can't be deleted. It can only be reassigned.\n",
        "\n",
        "#Creates quality array from dataset\n",
        "quality_data = red_wine_data[1:,-1:]\n",
        "\n",
        "#Creates input array whose values determine the output \n",
        "red_wine_input_data = red_wine_data[1:,:-1]"
      ],
      "metadata": {
        "id": "9ptBxR7Bs-ax"
      },
      "execution_count": 13,
      "outputs": []
    },
    {
      "cell_type": "code",
      "source": [
        "X_input = red_wine_input_data.T\n",
        "y_output = quality_data.T\n",
        "\n",
        "N, D_in, H, D_out = 1598, 11, 30, 1\n",
        "\n",
        "#define activation function\n",
        "f = lambda x:1/(1+np.exp(-x))  #sigmoid function\n",
        "f_relu = lambda x: np.maximum(0,x)    #relu function\n",
        "\n"
      ],
      "metadata": {
        "id": "pdiDrFl4bw5V"
      },
      "execution_count": 33,
      "outputs": []
    },
    {
      "cell_type": "code",
      "source": [
        "#create computations\n",
        "\n",
        "loss_f = []\n",
        "loss_relu = []\n",
        "runs = range(2000)\n",
        "for i in runs:\n",
        "  w1,w2 = np.random.randn(H, D_in), np.random.randn(D_out,H)\n",
        "  h1 = 1/(1 + np.exp(-np.dot(w1,X_input).astype(np.float64)))\n",
        "  h1_relu = f_relu(np.dot(w1, X_input))\n",
        "\n",
        "  pred = np.dot(w2,h1)\n",
        "  pred_relu = np.dot(w2, h1_relu)\n",
        "\n",
        "  loss_relu.append(np.square(pred_relu - y_output).sum())\n",
        "  loss_f.append(np.square(pred-y_output).sum())\n",
        "\n",
        "#if there are more hidden layers\n",
        "#h2 = f(np.dot(w2,h1))\n",
        "\n",
        "#continue working on this "
      ],
      "metadata": {
        "colab": {
          "base_uri": "https://localhost:8080/"
        },
        "id": "mKFD8NKOr1F7",
        "outputId": "edd81111-da5f-4bd3-ad14-bdb72ca57642"
      },
      "execution_count": 36,
      "outputs": [
        {
          "output_type": "stream",
          "name": "stderr",
          "text": [
            "/usr/local/lib/python3.7/dist-packages/ipykernel_launcher.py:8: RuntimeWarning: overflow encountered in exp\n",
            "  \n"
          ]
        }
      ]
    },
    {
      "cell_type": "code",
      "source": [
        "sns.set_style(\"whitegrid\")\n",
        "fig, ax = plt.subplots(2)\n",
        "ax[0].plot(runs, loss_f)\n",
        "ax[1].plot(runs, loss_relu)"
      ],
      "metadata": {
        "colab": {
          "base_uri": "https://localhost:8080/",
          "height": 282
        },
        "id": "DTp9hDmtxFcL",
        "outputId": "061ada9d-b702-4e21-96b2-62bca247fb54"
      },
      "execution_count": 39,
      "outputs": [
        {
          "output_type": "execute_result",
          "data": {
            "text/plain": [
              "[<matplotlib.lines.Line2D at 0x7fed8c989050>]"
            ]
          },
          "metadata": {},
          "execution_count": 39
        },
        {
          "output_type": "display_data",
          "data": {
            "image/png": "[encoded data removed]",
            "text/plain": [
              "<Figure size 432x288 with 2 Axes>"
            ]
          },
          "metadata": {}
        }
      ]
    },
    {
      "cell_type": "code",
      "source": [
        ""
      ],
      "metadata": {
        "id": "op2J0uSNyLp0"
      },
      "execution_count": null,
      "outputs": []
    }
  ]
}