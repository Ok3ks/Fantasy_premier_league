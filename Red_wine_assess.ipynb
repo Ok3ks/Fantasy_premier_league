{
  "nbformat": 4,
  "nbformat_minor": 0,
  "metadata": {
    "colab": {
      "name": "Red_wine assess.ipynb",
      "provenance": [],
      "collapsed_sections": []
    },
    "kernelspec": {
      "name": "python3",
      "display_name": "Python 3"
    },
    "language_info": {
      "name": "python"
    }
  },
  "cells": [
    {
      "cell_type": "code",
      "execution_count": null,
      "metadata": {
        "id": "oY7e8kEHoseb",
        "colab": {
          "base_uri": "https://localhost:8080/"
        },
        "outputId": "9668694d-f070-4db1-a35e-34725fc95a32"
      },
      "outputs": [
        {
          "output_type": "stream",
          "name": "stdout",
          "text": [
            "Mounted at /content/drive\n"
          ]
        }
      ],
      "source": [
        "from google.colab import drive\n",
        "import pandas as pd\n",
        "import matplotlib.pyplot as plt\n",
        "import os\n",
        "import re\n",
        "import numpy as np\n",
        "\n",
        "drive.mount('/content/drive')\n",
        "os.chdir(\"drive/My Drive/winequality\")\n",
        "files = \"winequality-red.csv\" \n"
      ]
    },
    {
      "cell_type": "code",
      "source": [
        "content = []\n",
        "with open(files) as f: \n",
        "  for line in f:\n",
        "    line = re.sub(\"(\\n)\",\"\",line)\n",
        "    content.append(line.split(';'))"
      ],
      "metadata": {
        "id": "R3Hyf9bio4gE"
      },
      "execution_count": null,
      "outputs": []
    },
    {
      "cell_type": "code",
      "source": [
        "red_wine_df = pd.DataFrame(content, columns = [\"fixed acidity\",\"volatile acidity\", \"citric acid\", \"residual sugar\", \"chlorides\", \"free sulfur dioxide\", \"total sulfur dioxide\",\"density\",\"pH\",\"sulphates\",\"alcohol\",\"quality\"])\n",
        "red_wine_df.drop([0], inplace = True)\n",
        "\n",
        "y = red_wine_df['quality']\n",
        "x = red_wine_df[[\"fixed acidity\",\"volatile acidity\", \"citric acid\", \"residual sugar\", \"chlorides\", \"free sulfur dioxide\", \"total sulfur dioxide\",\"density\",\"pH\",\"sulphates\",\"alcohol\"]]"
      ],
      "metadata": {
        "id": "iOy2qFJoo8ip"
      },
      "execution_count": null,
      "outputs": []
    },
    {
      "cell_type": "code",
      "source": [
        "red_wine_df.info()"
      ],
      "metadata": {
        "colab": {
          "base_uri": "https://localhost:8080/"
        },
        "id": "69i3IvnDF2Y4",
        "outputId": "85d37ce8-2f19-42d1-80d4-216cdb2f7286"
      },
      "execution_count": null,
      "outputs": [
        {
          "output_type": "stream",
          "name": "stdout",
          "text": [
            "<class 'pandas.core.frame.DataFrame'>\n",
            "Int64Index: 1599 entries, 1 to 1599\n",
            "Data columns (total 12 columns):\n",
            " #   Column                Non-Null Count  Dtype \n",
            "---  ------                --------------  ----- \n",
            " 0   fixed acidity         1599 non-null   object\n",
            " 1   volatile acidity      1599 non-null   object\n",
            " 2   citric acid           1599 non-null   object\n",
            " 3   residual sugar        1599 non-null   object\n",
            " 4   chlorides             1599 non-null   object\n",
            " 5   free sulfur dioxide   1599 non-null   object\n",
            " 6   total sulfur dioxide  1599 non-null   object\n",
            " 7   density               1599 non-null   object\n",
            " 8   pH                    1599 non-null   object\n",
            " 9   sulphates             1599 non-null   object\n",
            " 10  alcohol               1599 non-null   object\n",
            " 11  quality               1599 non-null   object\n",
            "dtypes: object(12)\n",
            "memory usage: 162.4+ KB\n"
          ]
        }
      ]
    },
    {
      "cell_type": "markdown",
      "source": [
        "**Linear Model**"
      ],
      "metadata": {
        "id": "msKWTh3KVtCp"
      }
    },
    {
      "cell_type": "code",
      "source": [
        "from sklearn.model_selection import train_test_split\n",
        "from sklearn.linear_model import LinearRegression\n",
        "from sklearn import metrics\n",
        "import seaborn as sns\n",
        "import numpy as np"
      ],
      "metadata": {
        "id": "g0v1p0snpq5e"
      },
      "execution_count": null,
      "outputs": []
    },
    {
      "cell_type": "code",
      "source": [
        "size = [0.5,0.4,0.3,0.2,0.1]\n",
        "yvalues_test = {}; intercept = {}; predictions = {}; coeff = {}; xvalues_test = {}; rmse = {}\n",
        "lr_model = LinearRegression()\n",
        "\n",
        "for i in range(len(size)):\n",
        "  current = size[i]\n",
        "  x_train,x_test,y_train,y_test = train_test_split(x,y, test_size = current)\n",
        "  lr_model.fit(x_train,y_train)\n",
        "\n",
        "  w = lr_model.coef_; b = lr_model.intercept_; coeff[current] = w; intercept[current] = b\n",
        "  #predict output based on this model\n",
        "  predictions[current] = lr_model.predict(x_test)\n",
        "  xvalues_test[current] = x_test\n",
        "  yvalues_test[current] = y_test\n"
      ],
      "metadata": {
        "id": "v5iQYZ0pD63y"
      },
      "execution_count": null,
      "outputs": []
    },
    {
      "cell_type": "code",
      "source": [
        "predictions[0.2]"
      ],
      "metadata": {
        "colab": {
          "base_uri": "https://localhost:8080/"
        },
        "id": "Ne4WIksUUs8U",
        "outputId": "c40a7c5b-039b-4cc6-e5ff-b9eaeced3854"
      },
      "execution_count": null,
      "outputs": [
        {
          "output_type": "execute_result",
          "data": {
            "text/plain": [
              "array([6.12239107, 5.10720226, 5.44509395, 6.00849464, 5.06901218,\n",
              "       6.31238897, 5.29393475, 5.52570094, 5.23635794, 5.17540095,\n",
              "       5.27729541, 5.65904078, 5.4864551 , 5.06888535, 5.27354114,\n",
              "       5.77933812, 5.84389364, 6.14585433, 5.85769141, 5.88612499,\n",
              "       6.12854856, 6.6331606 , 5.8427194 , 5.16880886, 5.25517019,\n",
              "       5.86436695, 5.65052506, 4.99191285, 5.41510511, 5.39150618,\n",
              "       5.44509395, 5.17861826, 5.28244818, 5.23456786, 5.73359205,\n",
              "       6.60528298, 5.44393781, 5.17328931, 6.22396367, 5.3249637 ,\n",
              "       6.03013633, 4.8491835 , 5.12802482, 6.18351968, 5.6466348 ,\n",
              "       5.45690414, 5.27230479, 5.33453406, 5.94715649, 6.47431942,\n",
              "       5.02821741, 5.34832587, 4.8208139 , 5.98684467, 5.4406575 ,\n",
              "       4.93932394, 5.42244212, 5.53278817, 5.77109062, 5.22969819,\n",
              "       5.36735246, 5.63881193, 5.57979088, 5.08108824, 5.49294185,\n",
              "       6.20995245, 5.20714664, 5.70218708, 6.75702093, 5.13605413,\n",
              "       5.00113212, 5.47431127, 5.78345613, 5.94717941, 6.02267024,\n",
              "       5.04028731, 6.02810157, 5.15617996, 5.38005082, 5.7779553 ,\n",
              "       5.56351369, 6.36159026, 6.38038541, 5.31876996, 5.79414304,\n",
              "       6.0756488 , 5.80315588, 5.83980563, 6.17388161, 5.3227702 ,\n",
              "       5.10048688, 5.85024716, 5.21942834, 5.09217505, 5.28304263,\n",
              "       5.19471092, 5.26641008, 5.09667233, 5.76271209, 5.01996113,\n",
              "       5.21647614, 5.80517675, 6.23618818, 5.36546147, 6.21919392,\n",
              "       5.78439263, 5.39610659, 5.55917114, 5.61509925, 6.38563349,\n",
              "       5.3052973 , 5.04777946, 5.49294185, 6.55057957, 4.98534049,\n",
              "       6.1882662 , 6.01463859, 4.9992809 , 5.29509189, 5.70960637,\n",
              "       5.93921785, 5.77864658, 5.77691775, 5.67370701, 6.06433664,\n",
              "       5.01174381, 5.15404868, 5.23900629, 4.76616419, 5.41714584,\n",
              "       5.26995138, 5.63361151, 5.1252006 , 6.10153618, 5.35468957,\n",
              "       5.26483456, 6.2154343 , 5.84373158, 5.98905817, 5.81315904,\n",
              "       6.38764337, 5.02126418, 4.71866001, 6.23734172, 6.47515519,\n",
              "       5.12233195, 5.24725947, 5.77248148, 6.36739981, 4.82297734,\n",
              "       6.03966395, 5.95404947, 5.08604461, 5.25004365, 5.38635435,\n",
              "       5.83877492, 5.98301708, 5.49338817, 5.06285376, 5.82801968,\n",
              "       5.31310727, 5.6918065 , 5.22997798, 5.1558733 , 5.12658066,\n",
              "       5.6496512 , 5.29221914, 5.71957547, 5.86019172, 4.99192632,\n",
              "       4.92731713, 5.43117628, 6.35136819, 6.26214854, 4.99445951,\n",
              "       5.0393617 , 5.33035932, 5.37550608, 6.33734821, 5.51737351,\n",
              "       5.01638349, 5.38369638, 5.39618986, 5.58291361, 6.46017984,\n",
              "       6.13238522, 5.64729577, 5.92124397, 6.17610709, 4.86899725,\n",
              "       6.17627369, 6.23817865, 5.73271749, 5.38475032, 5.67370701,\n",
              "       5.98247337, 5.683125  , 5.25517019, 5.57918964, 5.39376243,\n",
              "       6.55657011, 5.728458  , 5.02599765, 6.21452285, 5.68504283,\n",
              "       5.30892666, 6.13443775, 5.77550912, 6.37459156, 5.93921785,\n",
              "       5.14800525, 6.1574101 , 6.52765624, 5.6489061 , 6.05600328,\n",
              "       6.14063287, 5.67755297, 6.14585433, 5.54580921, 5.7268176 ,\n",
              "       6.60287079, 5.25513705, 4.95310636, 6.11648661, 4.99966572,\n",
              "       6.60528298, 5.96875312, 5.12622123, 4.98640188, 6.09220571,\n",
              "       5.76850647, 5.98905817, 5.36183971, 5.97435083, 5.41217339,\n",
              "       6.12948074, 5.69960675, 6.14413109, 4.97389106, 6.09146581,\n",
              "       6.00124836, 5.00657891, 5.48580429, 4.99632146, 5.51128434,\n",
              "       5.90124962, 5.11617473, 5.18343278, 5.2705676 , 5.682967  ,\n",
              "       5.52559929, 4.32796212, 5.68811078, 5.96786182, 5.7779553 ,\n",
              "       5.6089057 , 5.16191705, 5.97338061, 6.08968058, 5.88353569,\n",
              "       5.21942834, 4.97143415, 5.98524092, 6.37864145, 5.04347447,\n",
              "       5.32883713, 5.65451834, 6.08802991, 6.05971454, 6.63637717,\n",
              "       5.18343278, 5.60776991, 6.24185208, 6.05045242, 5.42707034,\n",
              "       6.18382634, 5.17687313, 6.20164107, 5.55061373, 5.57994938,\n",
              "       5.49915889, 6.1405847 , 5.55116377, 5.52321004, 5.3026636 ,\n",
              "       6.27397413, 5.29922844, 5.69151207, 5.77451988, 5.5948876 ,\n",
              "       5.33388447, 6.07579481, 6.54811117, 5.65187162, 5.51706896,\n",
              "       5.23905001, 5.29019666, 4.91676595, 5.97034553, 5.1917506 ,\n",
              "       5.25648394, 5.55436353, 5.52082425, 6.08649829, 5.19132455,\n",
              "       5.32924249, 5.15877678, 6.35757145, 5.40844069, 5.1355416 ,\n",
              "       5.11529734, 4.84765337, 5.7190716 , 5.21667793, 6.05097617,\n",
              "       6.10409429, 5.33398913, 6.5558623 , 5.54943851, 5.41047187])"
            ]
          },
          "metadata": {},
          "execution_count": 61
        }
      ]
    },
    {
      "cell_type": "code",
      "source": [
        "plt.scatter(lr_model.predict(xvalues_test[0.2]), yvalues_test[0.2])"
      ],
      "metadata": {
        "colab": {
          "base_uri": "https://localhost:8080/",
          "height": 282
        },
        "id": "xE0rhlrDKer6",
        "outputId": "c2cf074a-e0c7-4320-b467-44621a488dec"
      },
      "execution_count": null,
      "outputs": [
        {
          "output_type": "execute_result",
          "data": {
            "text/plain": [
              "<matplotlib.collections.PathCollection at 0x7f9e1b63c690>"
            ]
          },
          "metadata": {},
          "execution_count": 64
        },
        {
          "output_type": "display_data",
          "data": {
            "image/png": "[encoded data removed]",
            "text/plain": [
              "<Figure size 432x288 with 1 Axes>"
            ]
          },
          "metadata": {
            "needs_background": "light"
          }
        }
      ]
    },
    {
      "cell_type": "code",
      "source": [
        "#Testing the performance of a model can be done with Mean absolute error, Mean squared error, Root mean squared error. Can also use accuracy"
      ],
      "metadata": {
        "id": "JM-lve3sM67D"
      },
      "execution_count": null,
      "outputs": []
    },
    {
      "cell_type": "code",
      "source": [
        "mse_lr = {}; mae_lr = {}; rmse_lr = {}\n",
        "\n",
        "for i in range(len(size)):\n",
        "  current = size[i]\n",
        "  mse_lr[current] = metrics.mean_squared_error(lr_model.predict(xvalues_test[current]), yvalues_test[current])\n",
        "  mae_lr[current] = metrics.mean_absolute_error(lr_model.predict(xvalues_test[current]), yvalues_test[current])\n",
        "  rmse_lr[current] = np.sqrt(metrics.mean_absolute_error(lr_model.predict(xvalues_test[current]), yvalues_test[current]))"
      ],
      "metadata": {
        "id": "7KAowuxZYUx4"
      },
      "execution_count": null,
      "outputs": []
    },
    {
      "cell_type": "code",
      "source": [
        "mse_lr"
      ],
      "metadata": {
        "colab": {
          "base_uri": "https://localhost:8080/"
        },
        "id": "seCxGxteat4z",
        "outputId": "a05a3537-8a26-4e4b-e8d5-f098e648320a"
      },
      "execution_count": null,
      "outputs": [
        {
          "output_type": "execute_result",
          "data": {
            "text/plain": [
              "{0.1: 0.4059138863812099,\n",
              " 0.2: 0.3945446929425115,\n",
              " 0.3: 0.43707135585105533,\n",
              " 0.4: 0.41082210858041607,\n",
              " 0.5: 0.4096315795973484}"
            ]
          },
          "metadata": {},
          "execution_count": 73
        }
      ]
    },
    {
      "cell_type": "code",
      "source": [
        "mae_lr"
      ],
      "metadata": {
        "colab": {
          "base_uri": "https://localhost:8080/"
        },
        "id": "DTcQfduya8kq",
        "outputId": "53d40a9b-f93e-4b16-9143-bbc88fc5009b"
      },
      "execution_count": null,
      "outputs": [
        {
          "output_type": "execute_result",
          "data": {
            "text/plain": [
              "{0.1: 0.4935910592383057,\n",
              " 0.2: 0.49343859659443917,\n",
              " 0.3: 0.5074440360614081,\n",
              " 0.4: 0.49069243325017337,\n",
              " 0.5: 0.4967903482634079}"
            ]
          },
          "metadata": {},
          "execution_count": 74
        }
      ]
    },
    {
      "cell_type": "markdown",
      "source": [
        "**Two layer Neural Networks**"
      ],
      "metadata": {
        "id": "xMOZtD6zbszf"
      }
    },
    {
      "cell_type": "code",
      "source": [
        "#Convert data from csvs into arrays\n",
        "red_wine_data = np.genfromtxt(files, delimiter = ';')\n",
        "\n",
        "#Removes headers as nan values\n",
        "red_wine_data = red_wine_data[1:,:] #Numpy arrays are immutable thus can't be deleted. It can only be reassigned.\n",
        "\n",
        "#Creates quality array from dataset\n",
        "quality_data = red_wine_data[1:,-1:]\n",
        "\n",
        "#Creates input array whose values determine the output \n",
        "red_wine_input_data = red_wine_data[1:,:-1]"
      ],
      "metadata": {
        "id": "9ptBxR7Bs-ax"
      },
      "execution_count": null,
      "outputs": []
    },
    {
      "cell_type": "code",
      "source": [
        ""
      ],
      "metadata": {
        "id": "pdiDrFl4bw5V"
      },
      "execution_count": null,
      "outputs": []
    }
  ]
}